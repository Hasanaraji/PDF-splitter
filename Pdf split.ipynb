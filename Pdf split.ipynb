{
 "cells": [
  {
   "cell_type": "code",
   "execution_count": null,
   "metadata": {},
   "outputs": [],
   "source": [
    "%pip install pypdf"
   ]
  },
  {
   "cell_type": "code",
   "execution_count": null,
   "metadata": {},
   "outputs": [],
   "source": [
    "import os\n",
    "from pypdf import PdfReader, PdfWriter"
   ]
  },
  {
   "cell_type": "code",
   "execution_count": null,
   "metadata": {},
   "outputs": [],
   "source": [
    "def split_hadha_din_pdf(input_pdf_path, output_folder):\n",
    "    # Open the input PDF file\n",
    "    with open(input_pdf_path, 'rb') as input_pdf:\n",
    "        reader = PdfReader(input_pdf)\n",
    "        \n",
    "        # Define the page ranges for each part\n",
    "        parts = {\n",
    "            \"Part I\": (1, 12),\n",
    "            \"Part II\": (13, 19),\n",
    "            \"Part III\": (19, 25),\n",
    "            \"Part IV\": (26, 30),\n",
    "            \"Part V\": (30, 38),\n",
    "            \"Part VI\": (38, 44),\n",
    "            \"Part VII\": (44, 59),\n",
    "        }\n",
    "        \n",
    "        # Iterate through each part\n",
    "        for part_name, (start_page, end_page) in parts.items():\n",
    "            writer = PdfWriter()\n",
    "            \n",
    "            # Adjust pages to be zero-based index for PyPDF2\n",
    "            for page_number in range(start_page - 1, end_page):\n",
    "                writer.add_page(reader.get_page(page_number))\n",
    "            \n",
    "            # Output PDF file path\n",
    "            output_pdf_path = f\"{output_folder}/{part_name}.pdf\"\n",
    "            \n",
    "            # Write the pages to a new PDF file\n",
    "            with open(output_pdf_path, 'wb') as output_pdf:\n",
    "                writer.write(output_pdf)\n",
    "            \n",
    "            print(f\"{part_name} has been written to {output_pdf_path}\")"
   ]
  },
  {
   "cell_type": "code",
   "execution_count": null,
   "metadata": {},
   "outputs": [],
   "source": [
    "input_pdf_path = 'This Religion (Hadha Din) Sayyid Qutb.pdf'\n",
    "output_folder = 'Hadha Parts'\n",
    "split_hadha_din_pdf(input_pdf_path, output_folder)"
   ]
  },
  {
   "cell_type": "markdown",
   "metadata": {},
   "source": [
    "# To split any PDF in future"
   ]
  },
  {
   "cell_type": "code",
   "execution_count": null,
   "metadata": {},
   "outputs": [],
   "source": [
    "#A function to split any pdf into desired parts.\n",
    "def split_any_pdf(input_pdf_path, output_folder, split_mode, parts=None):\n",
    "    # Open the input PDF file\n",
    "    reader = PdfReader(input_pdf_path)\n",
    "    total_pages = len(reader.pages)\n",
    "        \n",
    "    if split_mode == 'equal':\n",
    "        # Split PDF into equal parts\n",
    "        num_parts = int(parts)\n",
    "        pages_per_part = total_pages // num_parts\n",
    "        for i in range(num_parts):\n",
    "            writer = PdfWriter()\n",
    "            start_page = i * pages_per_part\n",
    "            end_page = (i + 1) * pages_per_part if i < num_parts - 1 else total_pages\n",
    "            \n",
    "            for page in range(start_page, end_page):\n",
    "                writer.add_page(reader.pages[page])\n",
    "            \n",
    "            output_pdf_path = os.path.join(output_folder, f\"Part_{i+1}.pdf\")\n",
    "            with open(output_pdf_path, 'wb') as output_pdf:\n",
    "                writer.write(output_pdf)\n",
    "            \n",
    "            print(f\"Part {i+1} has been written to {output_pdf_path}\")\n",
    "    \n",
    "    elif split_mode == 'manual':\n",
    "        # Split PDF based on manually provided page ranges\n",
    "        for i, (start_page, end_page) in enumerate(parts, start=1):\n",
    "            writer = PdfWriter()\n",
    "            \n",
    "            for page in range(start_page - 1, end_page):\n",
    "                writer.add_page(reader.pages[page])\n",
    "            \n",
    "            output_pdf_path = os.path.join(output_folder, f\"Part_{i}.pdf\")\n",
    "            with open(output_pdf_path, 'wb') as output_pdf:\n",
    "                writer.write(output_pdf)\n",
    "            \n",
    "            print(f\"Part {i} (Pages {start_page}-{end_page}) has been written to {output_pdf_path}\")\n",
    "    \n",
    "    else:\n",
    "        print(\"Invalid split mode. Please choose 'equal' or 'manual'.\")"
   ]
  },
  {
   "cell_type": "code",
   "execution_count": null,
   "metadata": {},
   "outputs": [],
   "source": [
    "#testing equal split\n",
    "\n",
    "equal_pdf = 'You_Are_a_Badass_How_to_Stop_Doubting_Your_Greatness_and_Start_Living.pdf'\n",
    "destination = 'Badass book parts'\n",
    "no_of_parts = 15\n",
    "\n",
    "split_any_pdf(equal_pdf,destination,'equal',no_of_parts)"
   ]
  },
  {
   "cell_type": "code",
   "execution_count": null,
   "metadata": {},
   "outputs": [],
   "source": [
    "#testing manual split\n",
    "\n",
    "manual_pdf = 'The_4_Hour_Workweek.pdf'\n",
    "destination = 'Workweek book parts'\n",
    "parts_with_pages = ((1,10),(11,25),(26,60),(60,100),(101,200))\n",
    "\n",
    "split_any_pdf(manual_pdf,destination,'manual', parts_with_pages)"
   ]
  },
  {
   "cell_type": "code",
   "execution_count": null,
   "metadata": {},
   "outputs": [],
   "source": [
    "def general_splitter():\n",
    "    input_pdf_path = input(\"Enter the path to your input PDF file: \")\n",
    "    output_folder = input(\"Enter the path to your output folder: \")\n",
    "    \n",
    "    # Create output folder if it doesn't exist\n",
    "    os.makedirs(output_folder, exist_ok=True)\n",
    "    \n",
    "    split_mode = input(\"Do you want to split the PDF into equal parts or specify page ranges? (Enter 'equal' or 'manual'): \").strip().lower()\n",
    "    \n",
    "    if split_mode == 'equal':\n",
    "        num_parts = input(f\"Enter the number of equal parts to split the PDF into: \")\n",
    "        split_any_pdf(input_pdf_path, output_folder, split_mode, parts=num_parts)\n",
    "    \n",
    "    elif split_mode == 'manual':\n",
    "        parts = []\n",
    "        print(f\"Enter the page ranges for each part (e.g., 1-12). Type 'done' when finished.\")\n",
    "        while True:\n",
    "            page_range = input(f\"Enter page range for part {len(parts) + 1}: \").strip()\n",
    "            if page_range.lower() == 'done':\n",
    "                break\n",
    "            try:\n",
    "                start_page, end_page = map(int, page_range.split('-'))\n",
    "                parts.append((start_page, end_page))\n",
    "            except ValueError:\n",
    "                print(\"Invalid page range. Please enter the range as 'start-end' (e.g., 1-12).\")\n",
    "        \n",
    "        split_any_pdf(input_pdf_path, output_folder, split_mode, parts=parts)"
   ]
  },
  {
   "cell_type": "code",
   "execution_count": null,
   "metadata": {},
   "outputs": [],
   "source": [
    "general_splitter()"
   ]
  }
 ],
 "metadata": {
  "kernelspec": {
   "display_name": "base",
   "language": "python",
   "name": "python3"
  },
  "language_info": {
   "codemirror_mode": {
    "name": "ipython",
    "version": 3
   },
   "file_extension": ".py",
   "mimetype": "text/x-python",
   "name": "python",
   "nbconvert_exporter": "python",
   "pygments_lexer": "ipython3",
   "version": "3.12.3"
  }
 },
 "nbformat": 4,
 "nbformat_minor": 2
}
